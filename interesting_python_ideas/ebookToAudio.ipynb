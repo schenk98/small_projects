{
 "cells": [
  {
   "cell_type": "code",
   "execution_count": 16,
   "metadata": {},
   "outputs": [],
   "source": [
    "import subprocess\n",
    "import os\n",
    "\n",
    "def convert_ebook_to_audiobook(file_path):\n",
    "    \"\"\"\n",
    "    Converts an e-book to an audiobook using the ebook2audiobook tool.\n",
    "\n",
    "    Args:\n",
    "        file_path (str): The path to the e-book file.\n",
    "\n",
    "    Returns:\n",
    "        bool: True if conversion was successful, False otherwise.\n",
    "    \"\"\"\n",
    "    # Check if the file exists\n",
    "    if not os.path.isfile(file_path):\n",
    "        print(\"File does not exist.\")\n",
    "        return False\n",
    "\n",
    "    # Check for valid file extensions\n",
    "    valid_extensions = ['.pdf', '.txt', '.doc', '.docx', '.epub', '.mobi']\n",
    "    if not any(file_path.lower().endswith(ext) for ext in valid_extensions):\n",
    "        print(\"Invalid file format. Supported formats are: pdf, txt, doc, docx, epub, mobi.\")\n",
    "        return False\n",
    "\n",
    "    try:\n",
    "        # Construct the command to run ebook2audiobook\n",
    "        command = ['ebook2audiobook', '--headless', 'True', '--ebook', file_path]\n",
    "\n",
    "        # Execute the command\n",
    "        result = subprocess.run(command, check=True)\n",
    "\n",
    "        # Check if the command was successful\n",
    "        if result.returncode == 0:\n",
    "            print(\"Conversion successful.\")\n",
    "            return True\n",
    "        else:\n",
    "            print(\"Conversion failed.\")\n",
    "            return False\n",
    "\n",
    "    except Exception as e:\n",
    "        print(f\"An error occurred: {e}\")\n",
    "        return False\n"
   ]
  },
  {
   "cell_type": "code",
   "execution_count": 18,
   "metadata": {},
   "outputs": [
    {
     "name": "stdout",
     "output_type": "stream",
     "text": [
      "An error occurred: [WinError 2] Systém nemůže nalézt uvedený soubor\n"
     ]
    },
    {
     "data": {
      "text/plain": [
       "False"
      ]
     },
     "execution_count": 18,
     "metadata": {},
     "output_type": "execute_result"
    }
   ],
   "source": [
    "path = \"harry-potter-book-1.mobi\"\n",
    "convert_ebook_to_audiobook(path)"
   ]
  }
 ],
 "metadata": {
  "kernelspec": {
   "display_name": "Python 3",
   "language": "python",
   "name": "python3"
  },
  "language_info": {
   "codemirror_mode": {
    "name": "ipython",
    "version": 3
   },
   "file_extension": ".py",
   "mimetype": "text/x-python",
   "name": "python",
   "nbconvert_exporter": "python",
   "pygments_lexer": "ipython3",
   "version": "3.8.10"
  }
 },
 "nbformat": 4,
 "nbformat_minor": 2
}
